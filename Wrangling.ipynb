{
 "cells": [
  {
   "cell_type": "markdown",
   "id": "f0f92bc3-4640-447a-97a2-bd91742b8615",
   "metadata": {},
   "source": [
    "<b>Comparison of Computational and Clinical Diagnoses of Coronary Heart Disease</b>\n",
    "\n",
    "   Heart disease (HD) has many symptoms, thus, diagnosis is difficult, and it is critical to minimize testing (Bösner et al., 2010), while “[identifying] serious cardiac disease reliably” (Bösner et al., 2010). We want to determine whether exercise-induced parameters can more accurately diagnose HD than non-exercise-related predictors. We will create one model classifying non-exercise factors including age, resting electrocardiogram, and resting blood pressure, and another for exercise-related factors including ST depression during exercise, exercise-induced angina, and slope. We used the “Heart Disease Data Set” (Aha, n.d.), specifically the processed.cleveland.data which includes 14 variables, with the diagnosis denoted from 0 to 4 (Aha, n.d.).\n",
    "\n",
    "   We tidied the data to create the datasets required from the processed.cleveland.data (Aha, n.d.). Our first dataset includes exercise-related predictors for HD diagnosis. ST depression during exercise is used as it is related to an individual’s HD outcome, having clinical value (Lanza et al., 2004). Exercise-induced angina is used as exercise stresses the heart, exposing this symptom in HD patients (Harvard Health Publishing). Finally, the slope is used to study how exercise testing is involved in predicting HD (Gavotto et al., 2020). Our second dataset includes non-exercise parameters. Age is included as it contributes to HD diagnosis, with older ages being risk factors (Bösner et al., 2010). Blood sugar after fasting is included as this displays a correlation to HD, having pronounced effects in women (Shin et al., 2019). Finally, we used resting blood pressure as it constitutes “one of the most important risk factors for cardiovascular disease” (Wu, 2015). Both contain the num variable, indicating the categorical diagnosis. We will perform a K-nearest neighbors classification, using tidymodels, splitting 75% of the data into training datasets, and the remaining 25% in the testing datasets to utilize sufficient data to build accurate models. We will set a seed so our analysis can be reproduced, perform preprocessing (Timbers et al., n.d.) and “scale and center our data” (Timbers et al., n.d.) to create a model. This requires cross-validation to determine each dataset’s optimal K, and our model will be fit to the testing data to diagnose the patients. Our goal is determining the most accurate model, identifying the metrics and confusion matrix for each (Timbers et al., n.d.). To visualize our results we will create a bar plot denoting the number of correct/incorrect predictions in the testing dataset for each model to determine their accuracy.  \n",
    "\n",
    "   In conclusion, we want to determine whether exercise or non-exercise predictors are more effective at diagnosing HD. We expect that having patients exercise before diagnosis will be a more effective strategy than diagnostics done without analyzing physical effort. This can have a great impact on diagnostic accuracy, by expanding our range of diagnostic tests. While it could be more time-consuming than traditional methods, and unrealistic in extreme situations, it could lead to questioning how we can apply the most appropriate diagnostic method in all patient's circumstances. \n"
   ]
  },
  {
   "cell_type": "code",
   "execution_count": 1,
   "id": "cff367b7-697e-4f93-90de-aadbed13127e",
   "metadata": {},
   "outputs": [
    {
     "name": "stderr",
     "output_type": "stream",
     "text": [
      "── \u001b[1mAttaching packages\u001b[22m ─────────────────────────────────────── tidyverse 1.3.1 ──\n",
      "\n",
      "\u001b[32m✔\u001b[39m \u001b[34mggplot2\u001b[39m 3.3.6     \u001b[32m✔\u001b[39m \u001b[34mpurrr  \u001b[39m 0.3.4\n",
      "\u001b[32m✔\u001b[39m \u001b[34mtibble \u001b[39m 3.1.7     \u001b[32m✔\u001b[39m \u001b[34mdplyr  \u001b[39m 1.0.9\n",
      "\u001b[32m✔\u001b[39m \u001b[34mtidyr  \u001b[39m 1.2.0     \u001b[32m✔\u001b[39m \u001b[34mstringr\u001b[39m 1.4.0\n",
      "\u001b[32m✔\u001b[39m \u001b[34mreadr  \u001b[39m 2.1.2     \u001b[32m✔\u001b[39m \u001b[34mforcats\u001b[39m 0.5.1\n",
      "\n",
      "── \u001b[1mConflicts\u001b[22m ────────────────────────────────────────── tidyverse_conflicts() ──\n",
      "\u001b[31m✖\u001b[39m \u001b[34mdplyr\u001b[39m::\u001b[32mfilter()\u001b[39m masks \u001b[34mstats\u001b[39m::filter()\n",
      "\u001b[31m✖\u001b[39m \u001b[34mdplyr\u001b[39m::\u001b[32mlag()\u001b[39m    masks \u001b[34mstats\u001b[39m::lag()\n",
      "\n",
      "── \u001b[1mAttaching packages\u001b[22m ────────────────────────────────────── tidymodels 1.0.0 ──\n",
      "\n",
      "\u001b[32m✔\u001b[39m \u001b[34mbroom       \u001b[39m 1.0.0     \u001b[32m✔\u001b[39m \u001b[34mrsample     \u001b[39m 1.0.0\n",
      "\u001b[32m✔\u001b[39m \u001b[34mdials       \u001b[39m 1.0.0     \u001b[32m✔\u001b[39m \u001b[34mtune        \u001b[39m 1.0.0\n",
      "\u001b[32m✔\u001b[39m \u001b[34minfer       \u001b[39m 1.0.2     \u001b[32m✔\u001b[39m \u001b[34mworkflows   \u001b[39m 1.0.0\n",
      "\u001b[32m✔\u001b[39m \u001b[34mmodeldata   \u001b[39m 1.0.0     \u001b[32m✔\u001b[39m \u001b[34mworkflowsets\u001b[39m 1.0.0\n",
      "\u001b[32m✔\u001b[39m \u001b[34mparsnip     \u001b[39m 1.0.0     \u001b[32m✔\u001b[39m \u001b[34myardstick   \u001b[39m 1.0.0\n",
      "\u001b[32m✔\u001b[39m \u001b[34mrecipes     \u001b[39m 1.0.1     \n",
      "\n",
      "── \u001b[1mConflicts\u001b[22m ───────────────────────────────────────── tidymodels_conflicts() ──\n",
      "\u001b[31m✖\u001b[39m \u001b[34mscales\u001b[39m::\u001b[32mdiscard()\u001b[39m masks \u001b[34mpurrr\u001b[39m::discard()\n",
      "\u001b[31m✖\u001b[39m \u001b[34mdplyr\u001b[39m::\u001b[32mfilter()\u001b[39m   masks \u001b[34mstats\u001b[39m::filter()\n",
      "\u001b[31m✖\u001b[39m \u001b[34mrecipes\u001b[39m::\u001b[32mfixed()\u001b[39m  masks \u001b[34mstringr\u001b[39m::fixed()\n",
      "\u001b[31m✖\u001b[39m \u001b[34mdplyr\u001b[39m::\u001b[32mlag()\u001b[39m      masks \u001b[34mstats\u001b[39m::lag()\n",
      "\u001b[31m✖\u001b[39m \u001b[34myardstick\u001b[39m::\u001b[32mspec()\u001b[39m masks \u001b[34mreadr\u001b[39m::spec()\n",
      "\u001b[31m✖\u001b[39m \u001b[34mrecipes\u001b[39m::\u001b[32mstep()\u001b[39m   masks \u001b[34mstats\u001b[39m::step()\n",
      "\u001b[34m•\u001b[39m Use suppressPackageStartupMessages() to eliminate package startup messages\n",
      "\n"
     ]
    }
   ],
   "source": [
    "# Loading the libraries\n",
    "library(tidyverse)\n",
    "library(repr)\n",
    "library(tidymodels)\n",
    "options(repr.matrix.max.rows = 6)\n",
    "set.seed(9999)"
   ]
  },
  {
   "cell_type": "code",
   "execution_count": 2,
   "id": "ee466037-5f93-41db-ba71-840eb7d67d7c",
   "metadata": {},
   "outputs": [
    {
     "name": "stderr",
     "output_type": "stream",
     "text": [
      "\u001b[1mRows: \u001b[22m\u001b[34m303\u001b[39m \u001b[1mColumns: \u001b[22m\u001b[34m14\u001b[39m\n",
      "\u001b[36m──\u001b[39m \u001b[1mColumn specification\u001b[22m \u001b[36m────────────────────────────────────────────────────────\u001b[39m\n",
      "\u001b[1mDelimiter:\u001b[22m \",\"\n",
      "\u001b[31mchr\u001b[39m  (2): X12, X13\n",
      "\u001b[32mdbl\u001b[39m (12): X1, X2, X3, X4, X5, X6, X7, X8, X9, X10, X11, X14\n",
      "\n",
      "\u001b[36mℹ\u001b[39m Use `spec()` to retrieve the full column specification for this data.\n",
      "\u001b[36mℹ\u001b[39m Specify the column types or set `show_col_types = FALSE` to quiet this message.\n"
     ]
    }
   ],
   "source": [
    "# Reading the dataset into a dataframe\n",
    "cleveland_data <- read_csv(\"data/processed.cleveland.data\", col_names = FALSE)"
   ]
  },
  {
   "cell_type": "markdown",
   "id": "761284da-792b-481f-aaf3-9af860e8521d",
   "metadata": {},
   "source": [
    "WRANGLING THE DATA:"
   ]
  },
  {
   "cell_type": "code",
   "execution_count": 3,
   "id": "09691fab-1131-46be-8b7a-2b557d6d2d1d",
   "metadata": {},
   "outputs": [],
   "source": [
    "colnames(cleveland_data) <- c(\"age\", \"sex\", \"cp\", \"resting_blood_pressure\", \"chol\", \"fbs\", \"resting_electrocardio\", \"thalach\", \"exercise_angina\", \"exercise_st\", \"exercise_slope\", \"ca\", \"thal\", \"result\")"
   ]
  },
  {
   "cell_type": "markdown",
   "id": "96fd44e6-91cc-4d29-8196-903fa2a38dab",
   "metadata": {},
   "source": [
    "GROUP 1: data collected from patients at resting state."
   ]
  },
  {
   "cell_type": "code",
   "execution_count": 4,
   "id": "318ad46c-a2d8-418f-932a-618f9b0298e8",
   "metadata": {},
   "outputs": [
    {
     "data": {
      "text/html": [
       "<table class=\"dataframe\">\n",
       "<caption>A tibble: 6 × 4</caption>\n",
       "<thead>\n",
       "\t<tr><th scope=col>age</th><th scope=col>resting_blood_pressure</th><th scope=col>resting_electrocardio</th><th scope=col>result</th></tr>\n",
       "\t<tr><th scope=col>&lt;dbl&gt;</th><th scope=col>&lt;dbl&gt;</th><th scope=col>&lt;dbl&gt;</th><th scope=col>&lt;fct&gt;</th></tr>\n",
       "</thead>\n",
       "<tbody>\n",
       "\t<tr><td>63</td><td>145</td><td>2</td><td>0</td></tr>\n",
       "\t<tr><td>67</td><td>160</td><td>2</td><td>2</td></tr>\n",
       "\t<tr><td>67</td><td>120</td><td>2</td><td>1</td></tr>\n",
       "\t<tr><td>37</td><td>130</td><td>0</td><td>0</td></tr>\n",
       "\t<tr><td>41</td><td>130</td><td>2</td><td>0</td></tr>\n",
       "\t<tr><td>56</td><td>120</td><td>0</td><td>0</td></tr>\n",
       "</tbody>\n",
       "</table>\n"
      ],
      "text/latex": [
       "A tibble: 6 × 4\n",
       "\\begin{tabular}{llll}\n",
       " age & resting\\_blood\\_pressure & resting\\_electrocardio & result\\\\\n",
       " <dbl> & <dbl> & <dbl> & <fct>\\\\\n",
       "\\hline\n",
       "\t 63 & 145 & 2 & 0\\\\\n",
       "\t 67 & 160 & 2 & 2\\\\\n",
       "\t 67 & 120 & 2 & 1\\\\\n",
       "\t 37 & 130 & 0 & 0\\\\\n",
       "\t 41 & 130 & 2 & 0\\\\\n",
       "\t 56 & 120 & 0 & 0\\\\\n",
       "\\end{tabular}\n"
      ],
      "text/markdown": [
       "\n",
       "A tibble: 6 × 4\n",
       "\n",
       "| age &lt;dbl&gt; | resting_blood_pressure &lt;dbl&gt; | resting_electrocardio &lt;dbl&gt; | result &lt;fct&gt; |\n",
       "|---|---|---|---|\n",
       "| 63 | 145 | 2 | 0 |\n",
       "| 67 | 160 | 2 | 2 |\n",
       "| 67 | 120 | 2 | 1 |\n",
       "| 37 | 130 | 0 | 0 |\n",
       "| 41 | 130 | 2 | 0 |\n",
       "| 56 | 120 | 0 | 0 |\n",
       "\n"
      ],
      "text/plain": [
       "  age resting_blood_pressure resting_electrocardio result\n",
       "1 63  145                    2                     0     \n",
       "2 67  160                    2                     2     \n",
       "3 67  120                    2                     1     \n",
       "4 37  130                    0                     0     \n",
       "5 41  130                    2                     0     \n",
       "6 56  120                    0                     0     "
      ]
     },
     "metadata": {},
     "output_type": "display_data"
    },
    {
     "data": {
      "text/html": [
       "<table class=\"dataframe\">\n",
       "<caption>A tibble: 6 × 4</caption>\n",
       "<thead>\n",
       "\t<tr><th scope=col>exercise_angina</th><th scope=col>exercise_st</th><th scope=col>exercise_slope</th><th scope=col>result</th></tr>\n",
       "\t<tr><th scope=col>&lt;dbl&gt;</th><th scope=col>&lt;dbl&gt;</th><th scope=col>&lt;dbl&gt;</th><th scope=col>&lt;fct&gt;</th></tr>\n",
       "</thead>\n",
       "<tbody>\n",
       "\t<tr><td>0</td><td>2.3</td><td>3</td><td>0</td></tr>\n",
       "\t<tr><td>1</td><td>1.5</td><td>2</td><td>2</td></tr>\n",
       "\t<tr><td>1</td><td>2.6</td><td>2</td><td>1</td></tr>\n",
       "\t<tr><td>0</td><td>3.5</td><td>3</td><td>0</td></tr>\n",
       "\t<tr><td>0</td><td>1.4</td><td>1</td><td>0</td></tr>\n",
       "\t<tr><td>0</td><td>0.8</td><td>1</td><td>0</td></tr>\n",
       "</tbody>\n",
       "</table>\n"
      ],
      "text/latex": [
       "A tibble: 6 × 4\n",
       "\\begin{tabular}{llll}\n",
       " exercise\\_angina & exercise\\_st & exercise\\_slope & result\\\\\n",
       " <dbl> & <dbl> & <dbl> & <fct>\\\\\n",
       "\\hline\n",
       "\t 0 & 2.3 & 3 & 0\\\\\n",
       "\t 1 & 1.5 & 2 & 2\\\\\n",
       "\t 1 & 2.6 & 2 & 1\\\\\n",
       "\t 0 & 3.5 & 3 & 0\\\\\n",
       "\t 0 & 1.4 & 1 & 0\\\\\n",
       "\t 0 & 0.8 & 1 & 0\\\\\n",
       "\\end{tabular}\n"
      ],
      "text/markdown": [
       "\n",
       "A tibble: 6 × 4\n",
       "\n",
       "| exercise_angina &lt;dbl&gt; | exercise_st &lt;dbl&gt; | exercise_slope &lt;dbl&gt; | result &lt;fct&gt; |\n",
       "|---|---|---|---|\n",
       "| 0 | 2.3 | 3 | 0 |\n",
       "| 1 | 1.5 | 2 | 2 |\n",
       "| 1 | 2.6 | 2 | 1 |\n",
       "| 0 | 3.5 | 3 | 0 |\n",
       "| 0 | 1.4 | 1 | 0 |\n",
       "| 0 | 0.8 | 1 | 0 |\n",
       "\n"
      ],
      "text/plain": [
       "  exercise_angina exercise_st exercise_slope result\n",
       "1 0               2.3         3              0     \n",
       "2 1               1.5         2              2     \n",
       "3 1               2.6         2              1     \n",
       "4 0               3.5         3              0     \n",
       "5 0               1.4         1              0     \n",
       "6 0               0.8         1              0     "
      ]
     },
     "metadata": {},
     "output_type": "display_data"
    },
    {
     "name": "stderr",
     "output_type": "stream",
     "text": [
      "Warning message in mean.default(.x[[i]], ...):\n",
      "“argument is not numeric or logical: returning NA”\n",
      "Warning message in mean.default(.x[[i]], ...):\n",
      "“argument is not numeric or logical: returning NA”\n"
     ]
    },
    {
     "data": {
      "text/html": [
       "<table class=\"dataframe\">\n",
       "<caption>A tibble: 1 × 4</caption>\n",
       "<thead>\n",
       "\t<tr><th scope=col>age</th><th scope=col>resting_blood_pressure</th><th scope=col>resting_electrocardio</th><th scope=col>result</th></tr>\n",
       "\t<tr><th scope=col>&lt;dbl&gt;</th><th scope=col>&lt;dbl&gt;</th><th scope=col>&lt;dbl&gt;</th><th scope=col>&lt;dbl&gt;</th></tr>\n",
       "</thead>\n",
       "<tbody>\n",
       "\t<tr><td>54.43894</td><td>131.6898</td><td>0.990099</td><td>NA</td></tr>\n",
       "</tbody>\n",
       "</table>\n"
      ],
      "text/latex": [
       "A tibble: 1 × 4\n",
       "\\begin{tabular}{llll}\n",
       " age & resting\\_blood\\_pressure & resting\\_electrocardio & result\\\\\n",
       " <dbl> & <dbl> & <dbl> & <dbl>\\\\\n",
       "\\hline\n",
       "\t 54.43894 & 131.6898 & 0.990099 & NA\\\\\n",
       "\\end{tabular}\n"
      ],
      "text/markdown": [
       "\n",
       "A tibble: 1 × 4\n",
       "\n",
       "| age &lt;dbl&gt; | resting_blood_pressure &lt;dbl&gt; | resting_electrocardio &lt;dbl&gt; | result &lt;dbl&gt; |\n",
       "|---|---|---|---|\n",
       "| 54.43894 | 131.6898 | 0.990099 | NA |\n",
       "\n"
      ],
      "text/plain": [
       "  age      resting_blood_pressure resting_electrocardio result\n",
       "1 54.43894 131.6898               0.990099              NA    "
      ]
     },
     "metadata": {},
     "output_type": "display_data"
    },
    {
     "data": {
      "text/html": [
       "<table class=\"dataframe\">\n",
       "<caption>A tibble: 1 × 4</caption>\n",
       "<thead>\n",
       "\t<tr><th scope=col>exercise_angina</th><th scope=col>exercise_st</th><th scope=col>exercise_slope</th><th scope=col>result</th></tr>\n",
       "\t<tr><th scope=col>&lt;dbl&gt;</th><th scope=col>&lt;dbl&gt;</th><th scope=col>&lt;dbl&gt;</th><th scope=col>&lt;dbl&gt;</th></tr>\n",
       "</thead>\n",
       "<tbody>\n",
       "\t<tr><td>0.3267327</td><td>1.039604</td><td>1.60066</td><td>NA</td></tr>\n",
       "</tbody>\n",
       "</table>\n"
      ],
      "text/latex": [
       "A tibble: 1 × 4\n",
       "\\begin{tabular}{llll}\n",
       " exercise\\_angina & exercise\\_st & exercise\\_slope & result\\\\\n",
       " <dbl> & <dbl> & <dbl> & <dbl>\\\\\n",
       "\\hline\n",
       "\t 0.3267327 & 1.039604 & 1.60066 & NA\\\\\n",
       "\\end{tabular}\n"
      ],
      "text/markdown": [
       "\n",
       "A tibble: 1 × 4\n",
       "\n",
       "| exercise_angina &lt;dbl&gt; | exercise_st &lt;dbl&gt; | exercise_slope &lt;dbl&gt; | result &lt;dbl&gt; |\n",
       "|---|---|---|---|\n",
       "| 0.3267327 | 1.039604 | 1.60066 | NA |\n",
       "\n"
      ],
      "text/plain": [
       "  exercise_angina exercise_st exercise_slope result\n",
       "1 0.3267327       1.039604    1.60066        NA    "
      ]
     },
     "metadata": {},
     "output_type": "display_data"
    }
   ],
   "source": [
    "# mutate the result column into a factor, so it can be used to color and fill graphs\n",
    "cleveland_data <- mutate(cleveland_data, result = as_factor(result))\n",
    "\n",
    "# Wrangling the data by creating the desired data sets.\n",
    "# Group 1: data collected from patients at resting state\n",
    "cleveland_data_resting <- select(cleveland_data, age, resting_blood_pressure, resting_electrocardio, result) \n",
    "\n",
    "# Group 2: data collected from patients after exercise\n",
    "cleveland_data_exercise <- select(cleveland_data, exercise_angina, exercise_st, exercise_slope, result)\n",
    "\n",
    "head(cleveland_data_resting)\n",
    "head(cleveland_data_exercise)\n",
    "\n",
    "# We'll use map_df to calculatae the average value of each column, which helps us know the general range of values for each column\n",
    "# this also helps us by letting us know that we need to scale the data\n",
    "cleveland_data_resting <- map_df(cleveland_data_resting, mean)\n",
    "cleveland_data_exercise <- map_df(cleveland_data_exercise, mean)\n",
    "cleveland_data_resting\n",
    "cleveland_data_exercise"
   ]
  },
  {
   "cell_type": "markdown",
   "id": "a0aaa3e6-af9f-4395-8044-e4af2f49c4e1",
   "metadata": {},
   "source": [
    "GROUP 2: data collected from patients after exercise."
   ]
  },
  {
   "cell_type": "markdown",
   "id": "d450e23c-eb87-4482-9d02-930823e47ac2",
   "metadata": {},
   "source": [
    "For our tables we chose to make an initial table that displays our first data frame with the non-exercise-related predictors with the first six rows. We did this in order to be able to visualize the data that we have, including the possible values that each variable can adopt. Additionally, we computed the mean values for each of the column. This allows us to have an understanding of the scope of the values for each of the column. Since we see a very large disparity in some of the the mean values, this tells us that we will have to scale the variables in our final model.\n"
   ]
  },
  {
   "cell_type": "markdown",
   "id": "33238855-aa87-4838-ad1e-775001c5c61d",
   "metadata": {},
   "source": [
    "SPLITTING INTO TRAINING/TESTING"
   ]
  },
  {
   "cell_type": "code",
   "execution_count": 5,
   "id": "c1522d97-53d2-4cac-b196-523a258e894e",
   "metadata": {},
   "outputs": [
    {
     "name": "stderr",
     "output_type": "stream",
     "text": [
      "Warning message:\n",
      "“Too little data to stratify.\n",
      "\u001b[36m•\u001b[39m Resampling will be unstratified.”\n"
     ]
    },
    {
     "ename": "ERROR",
     "evalue": "Error in res$splits[[1]]: subscript out of bounds\n",
     "output_type": "error",
     "traceback": [
      "Error in res$splits[[1]]: subscript out of bounds\nTraceback:\n",
      "1. initial_split(cleveland_data_resting, prop = 0.75, strata = result)"
     ]
    }
   ],
   "source": [
    "# SPLITTING INTO TRAINING/TESTING data using 75% of the data in the training set \n",
    "\n",
    "initial_split <- initial_split(cleveland_data_resting, prop = 0.75, strata = result)  \n",
    "resting_train <- training(initial_split)   \n",
    "resting_test <- testing(initial_split)\n",
    "\n",
    "initial_split <- initial_split(cleveland_data_exercise, prop = 0.75, strata = result)  \n",
    "exercise_train <- training(initial_split)   \n",
    "exercise_test <- testing(initial_split)"
   ]
  },
  {
   "cell_type": "markdown",
   "id": "4d108c02-bd44-4cd9-9602-ca9cb22b325f",
   "metadata": {},
   "source": [
    "VISUALIZING DATA"
   ]
  },
  {
   "cell_type": "markdown",
   "id": "3472d92f-3b4b-439e-af21-5ec9ba908f76",
   "metadata": {},
   "source": [
    "As some of our predictors are binary while others have a large variety of values, we decided to visualize our graphs in the form of stacked barchart histograms, with the predictor values along the x-axis and number of diagnoses across the values of each predictor along the y-axis. The Angiographic Disease Status ranges from 0-4, with 0 indicating no evidence of coronary heart disease and 4 depicting a severe diagnosis of coronary heart disease."
   ]
  },
  {
   "cell_type": "markdown",
   "id": "faf21d20-eefd-4f61-add1-635c72dca5b3",
   "metadata": {},
   "source": [
    "- Fig. 1: A stacked barchart histogram to visualize the number of patients of different ages who have angiographic disease, and to what extent\n",
    "- Fig. 2: A stacked barchart histogram to visualize the number of patients with various resting blood pressures (in mm Hg) who have angiographic disease, and to what extent\n",
    "- Fig. 3: A stacked barchart histogram to visualize the number of patients belonging to each of the three resting electrocardiographic statuses, \n"
   ]
  },
  {
   "cell_type": "markdown",
   "id": "3d56ca96-bda2-407c-9668-9700e425ad7a",
   "metadata": {},
   "source": [
    "GROUP 1 GRAPHS:"
   ]
  },
  {
   "cell_type": "code",
   "execution_count": null,
   "id": "993758bc-17f0-46bf-874e-294fb5e03197",
   "metadata": {},
   "outputs": [],
   "source": [
    "options(repr.plot.width = 20, repr.plot.height = 10) \n",
    "\n",
    "resting_age_plot <- ggplot(resting_train, aes(x = age)) +\n",
    "    ggtitle(\"Fig. 1: Age and Angiographic Disease Status Diagnoses\") +\n",
    "    geom_histogram(aes(fill = result)) +\n",
    "    xlab(\"Age\") +\n",
    "    ylab(\"Count\") +\n",
    "    labs(fill = \"Angiographic Disease Status\") +\n",
    "    theme(text = element_text(size = 20))\n",
    "resting_age_plot\n",
    "\n",
    "resting_bps_plot <- ggplot(resting_train, aes(x = resting_blood_pressure)) +\n",
    "    ggtitle(\"Fig. 2: Resting Blood Pressure and Angiographic Disease Status Diagnoses\") +\n",
    "    geom_histogram(aes(fill = result)) +\n",
    "    xlab(\"Resting Blood Pressure (mm Hg)\") +\n",
    "    ylab(\"Count\") +\n",
    "    labs(fill = \"Angiographic Disease Status\") +\n",
    "    theme(text = element_text(size = 20))\n",
    "resting_bps_plot\n",
    "\n",
    "resting_electro_plot <- ggplot(resting_train, aes(x = resting_electrocardio)) +\n",
    "    ggtitle(\"Fig. 3: Resting Electrocardio Status and Angiographic Disease Status Diagnoses\") +\n",
    "    geom_bar(aes(fill = result)) +\n",
    "    xlab(\"Resting Electrocardio Status\") +\n",
    "    ylab(\"Count\") +\n",
    "    labs(fill = \"Angiographic Disease Status\") +\n",
    "    theme(text = element_text(size = 20))\n",
    "resting_electro_plot"
   ]
  },
  {
   "cell_type": "markdown",
   "id": "c9d3f35d-e3b5-4275-85df-3105369bbef9",
   "metadata": {},
   "source": [
    "GROUP 2 GRAPHS"
   ]
  },
  {
   "cell_type": "code",
   "execution_count": null,
   "id": "066c8827-2a6e-4900-a331-ecf4917c2742",
   "metadata": {},
   "outputs": [],
   "source": [
    "exercise_angina <- ggplot(exercise_train, aes(x = exercise_angina)) +\n",
    "    ggtitle(\"Fig. 4: Exercise Induced Angina and Angiographic Disease Status Diagnoses\") +\n",
    "    geom_bar(aes(fill = result)) +\n",
    "    xlab(\"Exercise Induced Angina\") +\n",
    "    ylab(\"Count\") +\n",
    "    labs(fill = \"Angiographic Disease Status\") +\n",
    "    theme(text = element_text(size = 20))\n",
    "exercise_angina\n",
    "\n",
    "exercise_st_plot <- ggplot(exercise_train, aes(x = exercise_st)) +\n",
    "\n",
    "    ggtitle(\"Fig. 5: Exercise-Induced ST Depression and Angiographic Disease Status Diagnoses\") +\n",
    "    geom_histogram(aes(fill = result)) +\n",
    "    xlab(\"ST Depression Induced By Exercise (Relative to Rest)\") +\n",
    "    ylab(\"Count\") +\n",
    "    labs(fill = \"Angiographic Disease Status\") +\n",
    "    theme(text = element_text(size = 20))\n",
    "exercise_st_plot\n",
    "\n",
    "exercise_slope_plot <- ggplot(exercise_train, aes(x = exercise_slope)) +\n",
    "    ggtitle(\"Fig. 6: Slope of Peak Exercise ST and Angiographic Disease Status Diagnoses\") +\n",
    "    geom_bar(aes(fill = result)) +\n",
    "    xlab(\"Slope of Peak Exercise ST Segment\") +\n",
    "    ylab(\"Count\") +\n",
    "    labs(fill = \"Angiographic Disease Status\") +\n",
    "    theme(text = element_text(size = 20))\n",
    "exercise_slope_plot"
   ]
  },
  {
   "cell_type": "code",
   "execution_count": null,
   "id": "5293e3af-5999-4325-911d-f943b832157a",
   "metadata": {},
   "outputs": [],
   "source": []
  },
  {
   "cell_type": "code",
   "execution_count": null,
   "id": "1ad9afb6-ccfd-4743-8ef5-ed1049219352",
   "metadata": {},
   "outputs": [],
   "source": []
  },
  {
   "cell_type": "code",
   "execution_count": null,
   "id": "f500e37e-ddd1-4af4-93f1-14f18130ef26",
   "metadata": {},
   "outputs": [],
   "source": []
  }
 ],
 "metadata": {
  "kernelspec": {
   "display_name": "R",
   "language": "R",
   "name": "ir"
  },
  "language_info": {
   "codemirror_mode": "r",
   "file_extension": ".r",
   "mimetype": "text/x-r-source",
   "name": "R",
   "pygments_lexer": "r",
   "version": "4.1.3"
  }
 },
 "nbformat": 4,
 "nbformat_minor": 5
}
