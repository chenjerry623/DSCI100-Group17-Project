{
 "cells": [
  {
   "cell_type": "markdown",
   "id": "238bb751",
   "metadata": {},
   "source": [
    "<b>Comparison of Computational and Clinical Diagnoses of Coronary Heart Disease</b>\n",
    "\n",
    "   Heart disease (HD) has many symptoms, thus, diagnosis is difficult, and it is critical to minimize testing (Bösner et al., 2010), while “[identifying] serious cardiac disease reliably” (Bösner et al., 2010). We want to determine whether exercise-induced parameters can more accurately diagnose HD than non-exercise-related predictors. We will create one model classifying non-exercise factors including age, resting electrocardiogram, and resting blood pressure, and another for exercise-related factors including ST depression during exercise, exercise-induced angina, and slope. We used the “Heart Disease Data Set” (Aha, n.d.), specifically the processed.cleveland.data which includes 14 variables, with the diagnosis denoted from 0 to 4 (Aha, n.d.).\n",
    "\n",
    "   We tidied the data to create the datasets required from the processed.cleveland.data (Aha, n.d.). Our first dataset includes exercise-related predictors for HD diagnosis. ST depression during exercise is used as it is related to an individual’s HD outcome, having clinical value (Lanza et al., 2004). Exercise-induced angina is used as exercise stresses the heart, exposing this symptom in HD patients (Harvard Health Publishing). Finally, the slope is used to study how exercise testing is involved in predicting HD (Gavotto et al., 2020). Our second dataset includes non-exercise parameters. Age is included as it contributes to HD diagnosis, with older ages being risk factors (Bösner et al., 2010). Blood sugar after fasting is included as this displays a correlation to HD, having pronounced effects in women (Shin et al., 2019). Finally, we used resting blood pressure as it constitutes “one of the most important risk factors for cardiovascular disease” (Wu, 2015). Both contain the result variable, indicating the categorical diagnosis. We will perform a K-nearest neighbors classification, using tidymodels, splitting 75% of the data into training datasets, and the remaining 25% in the testing datasets to utilize sufficient data to build accurate models. We will set a seed so our analysis can be reproduced, perform preprocessing (Timbers et al., n.d.) and “scale and center our data” (Timbers et al., n.d.) to create a model. This requires cross-validation to determine each dataset’s optimal K, and our model will be fit to the testing data to diagnose the patients. Our goal is determining the most accurate model, identifying the metrics and confusion matrix for each (Timbers et al., n.d.). To visualize our results we will create a bar plot denoting the number of correct/incorrect predictions in the testing dataset for each model to determine their accuracy.  \n",
    "\n",
    "   In conclusion, we want to determine whether exercise or non-exercise predictors are more effective at diagnosing HD. We expect that having patients exercise before diagnosis will be a more effective strategy than diagnostics done without analyzing physical effort. This can have a great impact on diagnostic accuracy, by expanding our range of diagnostic tests. While it could be more time-consuming than traditional methods, and unrealistic in extreme situations, it could lead to questioning how we can apply the most appropriate diagnostic method in all patient's circumstances. \n"
   ]
  },
  {
   "cell_type": "code",
   "execution_count": null,
   "id": "20574872-1e09-49ed-ad13-dea301b43a23",
   "metadata": {},
   "outputs": [],
   "source": [
    "#Source for the code:\n",
    "\n",
    "#Aha, D.W. (n.d.). Heart Disease Data Set. UCI Machine Learning Repository. \n",
    "#https://archive.ics.uci.edu/ml/datasets/Heart+Disease "
   ]
  },
  {
   "cell_type": "code",
   "execution_count": 2,
   "id": "827f3036",
   "metadata": {},
   "outputs": [
    {
     "name": "stderr",
     "output_type": "stream",
     "text": [
      "── \u001b[1mAttaching packages\u001b[22m ─────────────────────────────────────── tidyverse 1.3.1 ──\n",
      "\n",
      "\u001b[32m✔\u001b[39m \u001b[34mggplot2\u001b[39m 3.3.6     \u001b[32m✔\u001b[39m \u001b[34mpurrr  \u001b[39m 0.3.4\n",
      "\u001b[32m✔\u001b[39m \u001b[34mtibble \u001b[39m 3.1.7     \u001b[32m✔\u001b[39m \u001b[34mdplyr  \u001b[39m 1.0.9\n",
      "\u001b[32m✔\u001b[39m \u001b[34mtidyr  \u001b[39m 1.2.0     \u001b[32m✔\u001b[39m \u001b[34mstringr\u001b[39m 1.4.0\n",
      "\u001b[32m✔\u001b[39m \u001b[34mreadr  \u001b[39m 2.1.2     \u001b[32m✔\u001b[39m \u001b[34mforcats\u001b[39m 0.5.1\n",
      "\n",
      "── \u001b[1mConflicts\u001b[22m ────────────────────────────────────────── tidyverse_conflicts() ──\n",
      "\u001b[31m✖\u001b[39m \u001b[34mdplyr\u001b[39m::\u001b[32mfilter()\u001b[39m masks \u001b[34mstats\u001b[39m::filter()\n",
      "\u001b[31m✖\u001b[39m \u001b[34mdplyr\u001b[39m::\u001b[32mlag()\u001b[39m    masks \u001b[34mstats\u001b[39m::lag()\n",
      "\n",
      "── \u001b[1mAttaching packages\u001b[22m ────────────────────────────────────── tidymodels 1.0.0 ──\n",
      "\n",
      "\u001b[32m✔\u001b[39m \u001b[34mbroom       \u001b[39m 1.0.0     \u001b[32m✔\u001b[39m \u001b[34mrsample     \u001b[39m 1.0.0\n",
      "\u001b[32m✔\u001b[39m \u001b[34mdials       \u001b[39m 1.0.0     \u001b[32m✔\u001b[39m \u001b[34mtune        \u001b[39m 1.0.0\n",
      "\u001b[32m✔\u001b[39m \u001b[34minfer       \u001b[39m 1.0.2     \u001b[32m✔\u001b[39m \u001b[34mworkflows   \u001b[39m 1.0.0\n",
      "\u001b[32m✔\u001b[39m \u001b[34mmodeldata   \u001b[39m 1.0.0     \u001b[32m✔\u001b[39m \u001b[34mworkflowsets\u001b[39m 1.0.0\n",
      "\u001b[32m✔\u001b[39m \u001b[34mparsnip     \u001b[39m 1.0.0     \u001b[32m✔\u001b[39m \u001b[34myardstick   \u001b[39m 1.0.0\n",
      "\u001b[32m✔\u001b[39m \u001b[34mrecipes     \u001b[39m 1.0.1     \n",
      "\n",
      "── \u001b[1mConflicts\u001b[22m ───────────────────────────────────────── tidymodels_conflicts() ──\n",
      "\u001b[31m✖\u001b[39m \u001b[34mscales\u001b[39m::\u001b[32mdiscard()\u001b[39m masks \u001b[34mpurrr\u001b[39m::discard()\n",
      "\u001b[31m✖\u001b[39m \u001b[34mdplyr\u001b[39m::\u001b[32mfilter()\u001b[39m   masks \u001b[34mstats\u001b[39m::filter()\n",
      "\u001b[31m✖\u001b[39m \u001b[34mrecipes\u001b[39m::\u001b[32mfixed()\u001b[39m  masks \u001b[34mstringr\u001b[39m::fixed()\n",
      "\u001b[31m✖\u001b[39m \u001b[34mdplyr\u001b[39m::\u001b[32mlag()\u001b[39m      masks \u001b[34mstats\u001b[39m::lag()\n",
      "\u001b[31m✖\u001b[39m \u001b[34myardstick\u001b[39m::\u001b[32mspec()\u001b[39m masks \u001b[34mreadr\u001b[39m::spec()\n",
      "\u001b[31m✖\u001b[39m \u001b[34mrecipes\u001b[39m::\u001b[32mstep()\u001b[39m   masks \u001b[34mstats\u001b[39m::step()\n",
      "\u001b[34m•\u001b[39m Use \u001b[32mtidymodels_prefer()\u001b[39m to resolve common conflicts.\n",
      "\n"
     ]
    }
   ],
   "source": [
    "# Installation of the required librairies to conduct our data analysis.\n",
    "library(tidyverse)\n",
    "library(repr)\n",
    "library(tidymodels)\n",
    "options(repr.matrix.max.rows = 6)"
   ]
  },
  {
   "cell_type": "code",
   "execution_count": 3,
   "id": "7d7ea4f2",
   "metadata": {},
   "outputs": [
    {
     "name": "stderr",
     "output_type": "stream",
     "text": [
      "\u001b[1mRows: \u001b[22m\u001b[34m303\u001b[39m \u001b[1mColumns: \u001b[22m\u001b[34m14\u001b[39m\n",
      "\u001b[36m──\u001b[39m \u001b[1mColumn specification\u001b[22m \u001b[36m────────────────────────────────────────────────────────\u001b[39m\n",
      "\u001b[1mDelimiter:\u001b[22m \",\"\n",
      "\u001b[31mchr\u001b[39m  (2): X12, X13\n",
      "\u001b[32mdbl\u001b[39m (12): X1, X2, X3, X4, X5, X6, X7, X8, X9, X10, X11, X14\n",
      "\n",
      "\u001b[36mℹ\u001b[39m Use `spec()` to retrieve the full column specification for this data.\n",
      "\u001b[36mℹ\u001b[39m Specify the column types or set `show_col_types = FALSE` to quiet this message.\n"
     ]
    }
   ],
   "source": [
    "# Reading in the data from our online source (Aha, n.d.) using a read_csv function. \n",
    "cleveland_data <- read_csv(\"data/processed.cleveland.data\", col_names = FALSE)"
   ]
  },
  {
   "cell_type": "code",
   "execution_count": 4,
   "id": "88083689",
   "metadata": {},
   "outputs": [
    {
     "ename": "ERROR",
     "evalue": "Error in parse(text = x, srcfile = src): <text>:1:1: unexpected input\n1: <<\n    ^\n",
     "output_type": "error",
     "traceback": [
      "Error in parse(text = x, srcfile = src): <text>:1:1: unexpected input\n1: <<\n    ^\nTraceback:\n"
     ]
    }
   ],
   "source": [
    "<<<<<<< REMOTE CELL DELETED >>>>>>>\n",
    "# Reading the dataset into a dataframe\n",
    "cleveland_data <- read_csv(\"data/processed.cleveland.data\", col_names = FALSE)"
   ]
  },
  {
   "cell_type": "markdown",
   "id": "6dc8a3cd",
   "metadata": {},
   "source": [
    "WRANGLING THE DATA:"
   ]
  },
  {
   "cell_type": "code",
   "execution_count": null,
   "id": "84156a50",
   "metadata": {},
   "outputs": [],
   "source": [
    "colnames(cleveland_data) <- c(\"age\", \"sex\", \"cp\", \"trestbps\", \"chol\", \"fbs\", \"restecg\", \"thalach\", \"exang\", \"oldpeak\", \"slope\", \"ca\", \"thal\", \"num\")"
   ]
  },
  {
   "cell_type": "markdown",
   "id": "657ee352",
   "metadata": {},
   "source": [
    "Creating the desired data frames and visualizing our data in tables with the mean of each variable."
   ]
  },
  {
   "cell_type": "code",
   "execution_count": null,
   "id": "f58cf56e",
   "metadata": {},
   "outputs": [],
   "source": [
    "# mutate the result column into a factor, so it can be used to color and fill graphs\n",
    "cleveland_data <- mutate(cleveland_data, result = as_factor(result))\n",
    "\n",
    "# Wrangling the data by creating the desired data sets.\n",
    "# Group 1: data collected from patients at resting state\n",
    "cleveland_data_resting <- select(cleveland_data, age, resting_blood_pressure, resting_electrocardio, result) \n",
    "\n",
    "# Group 2: data collected from patients after exercise\n",
    "cleveland_data_exercise <- select(cleveland_data, exercise_angina, exercise_st, exercise_slope, result)\n",
    "\n",
    "head(cleveland_data_resting)\n",
    "head(cleveland_data_exercise)\n",
    "\n",
    "# We'll use map_df to calculate the average value of each column, which helps us know the general range of values for each column\n",
    "# this also helps us by letting us know that we need to scale the data.\n",
    "cleveland_data_resting_mean <- map_df(cleveland_data_resting, mean)\n",
    "cleveland_data_exercise_mean <- map_df(cleveland_data_exercise, mean)\n",
    "cleveland_data_resting_mean\n",
    "cleveland_data_exercise_mean"
   ]
  },
  {
   "cell_type": "markdown",
   "id": "9f4ae995",
   "metadata": {},
   "source": [
    "For our tables we chose to make an initial table that displays our first data frame with the non-exercise-related predictors with the first six rows. We did this in order to be able to visualize the data that we have, including the possible values that each variable can adopt. Additionally, we computed the mean values for each of the column. This allows us to have an understanding of the scope of the values for each of the columns. Since we see a very large disparity in some of the mean values, this tells us that we will have to scale the variables in our final model.\n"
   ]
  },
  {
   "cell_type": "markdown",
   "id": "47c49e89",
   "metadata": {},
   "source": [
    "SPLITTING INTO TRAINING/TESTING"
   ]
  },
  {
   "cell_type": "code",
   "execution_count": null,
   "id": "02303a32",
   "metadata": {},
   "outputs": [],
   "source": [
    "# Splitting the datasets into training and testing data using 75% of the data in the training set \n",
    "\n",
    "initial_split <- initial_split(cleveland_data_resting, prop = 0.75, strata = result)  \n",
    "resting_train <- training(initial_split)   \n",
    "resting_test <- testing(initial_split)\n",
    "\n",
    "initial_split <- initial_split(cleveland_data_exercise, prop = 0.75, strata = result)  \n",
    "exercise_train <- training(initial_split)   \n",
    "exercise_test <- testing(initial_split)"
   ]
  },
  {
   "cell_type": "markdown",
   "id": "b5b018c8",
   "metadata": {},
   "source": [
    "VISUALIZING THE DATA"
   ]
  },
  {
   "cell_type": "markdown",
   "id": "44988600",
   "metadata": {},
   "source": [
    "As some of our predictors are binary while others have a large variety of values, we decided to visualize our graphs in the form of stacked barcharts, with the predictor values along the x-axis and number of diagnoses across the values of each predictor along the y-axis. The Angiographic Disease Status ranges from 0-4, with 0 indicating no evidence of heart disease and 4 depicting a severe diagnosis of heart disease."
   ]
  },
  {
   "cell_type": "markdown",
   "id": "0b231d9c",
   "metadata": {},
   "source": [
    "- Fig. 1: A stacked barchart to visualize the number of patients of different ages who have heart disease, and the extent of the disease.\n",
    "- Fig. 2: A stacked barchart to visualize the number of patients with various resting blood pressures (in mm Hg) who have heart disease, and the extent of the disease.\n",
    "- Fig. 3: A stacked barchart to visualize the number of patients belonging to each of the three resting electrocardiographic statuses, and the extent of their heart disease.\n"
   ]
  },
  {
   "cell_type": "markdown",
   "id": "99221d95",
   "metadata": {},
   "source": [
    "GROUP 1 GRAPHS:"
   ]
  },
  {
   "cell_type": "code",
   "execution_count": null,
   "id": "749c5803",
   "metadata": {},
   "outputs": [],
   "source": [
    "#Creating the plots to visualize the data in our first group of predictors in relation to the severity of the heart disease. \n",
    "options(repr.plot.width = 20, repr.plot.height = 10) \n",
    "\n",
    "resting_age_plot <- ggplot(resting_train, aes(x = age)) +\n",
    "    ggtitle(\"Fig. 1: Age and Heart Disease Status Diagnoses\") +\n",
    "    geom_histogram(aes(fill = result)) +\n",
    "    xlab(\"Age\") +\n",
    "    ylab(\"Count\") +\n",
    "    labs(fill = \"Heart Disease Status\") +\n",
    "    theme(text = element_text(size = 20))\n",
    "resting_age_plot\n",
    "\n",
    "resting_bps_plot <- ggplot(resting_train, aes(x = resting_blood_pressure)) +\n",
    "    ggtitle(\"Fig. 2: Resting Blood Pressure and Heart Disease Status Diagnoses\") +\n",
    "    geom_histogram(aes(fill = result)) +\n",
    "    xlab(\"Resting Blood Pressure (mm Hg)\") +\n",
    "    ylab(\"Count\") +\n",
    "    labs(fill = \"Heart Disease Status\") +\n",
    "    theme(text = element_text(size = 20))\n",
    "resting_bps_plot\n",
    "\n",
    "resting_electro_plot <- ggplot(resting_train, aes(x = resting_electrocardio)) +\n",
    "    ggtitle(\"Fig. 3: Resting Electrocardio Status and AngioHeartgraphic Disease Status Diagnoses\") +\n",
    "    geom_bar(aes(fill = result)) +\n",
    "    xlab(\"Resting Electrocardio Status\") +\n",
    "    ylab(\"Count\") +\n",
    "    labs(fill = \"Heart Disease Status\") +\n",
    "    theme(text = element_text(size = 20))\n",
    "resting_electro_plot"
   ]
  },
  {
   "cell_type": "markdown",
   "id": "a0f34490",
   "metadata": {},
   "source": [
    "GROUP 2 GRAPHS\n",
    "\n",
    "- Fig. 4: A stacked barchart to visualize the exercise induced agina value related to the severity of heart disease.\n",
    "- Fig. 2: A stacked barchart to visualize the exercise-induced ST depression related to the heart disease severity. \n",
    "- Fig. 3: A stacked barchart to visualize the slope during exercise testing and the heart disease status. \n"
   ]
  },
  {
   "cell_type": "code",
   "execution_count": null,
   "id": "f9907a4f",
   "metadata": {},
   "outputs": [],
   "source": [
    "#Creating the plots to visualize the data in our second group of predictors in relation to the severity of the heart disease. \n",
    "exercise_angina <- ggplot(exercise_train, aes(x = exercise_angina)) +\n",
    "    ggtitle(\"Fig. 4: Exercise Induced Angina and Heart Disease Status Diagnoses\") +\n",
    "    geom_bar(aes(fill = result)) +\n",
    "    xlab(\"Exercise Induced Angina\") +\n",
    "    ylab(\"Count\") +\n",
    "    labs(fill = \"Heart Disease Status\") +\n",
    "    theme(text = element_text(size = 20))\n",
    "exercise_angina\n",
    "\n",
    "exercise_st_plot <- ggplot(exercise_train, aes(x = exercise_st)) +\n",
    "\n",
    "    ggtitle(\"Fig. 5: Exercise-Induced ST Depression and Heart Disease Status Diagnoses\") +\n",
    "    geom_histogram(aes(fill = result)) +\n",
    "    xlab(\"ST Depression Induced By Exercise (Relative to Rest)\") +\n",
    "    ylab(\"Count\") +\n",
    "    labs(fill = \"Heart Disease Status\") +\n",
    "    theme(text = element_text(size = 20))\n",
    "exercise_st_plot\n",
    "\n",
    "exercise_slope_plot <- ggplot(exercise_train, aes(x = exercise_slope)) +\n",
    "    ggtitle(\"Fig. 6: Slope of Peak Exercise ST and Heart Disease Status Diagnoses\") +\n",
    "    geom_bar(aes(fill = result)) +\n",
    "    xlab(\"Slope of Peak Exercise ST Segment\") +\n",
    "    ylab(\"Count\") +\n",
    "    labs(fill = \"Heart Disease Status\") +\n",
    "    theme(text = element_text(size = 20))\n",
    "exercise_slope_plot"
   ]
  },
  {
   "cell_type": "code",
   "execution_count": null,
   "id": "688ba327",
   "metadata": {},
   "outputs": [],
   "source": []
  },
  {
   "cell_type": "markdown",
   "id": "7d97f3ef-cffb-4398-8cb5-410549c20d7c",
   "metadata": {},
   "source": [
    "References\n",
    "\n",
    "Aha, D.W. (n.d.). Heart Disease Data Set. UCI Machine Learning Repository. \n",
    "https://archive.ics.uci.edu/ml/datasets/Heart+Disease \n",
    "\n",
    "Bösner, S., Becker, A., Hani, M.A., Keller, H., Sönnichsen, A.C., Haasenritter, J., Karatolios, K., \n",
    "Schaefer, J.R., Baum, E., and Donner-Banzhoff, N. (2010). Accuracy of symptoms and signs for coronary heart disease assessed in primary care. British Journal of General Practice, 60(575), 246-257. 10.3399/bjgp10X502137\n",
    "\n",
    "Gavotto, A., Huguet, H., Picot, M-C., Guillaumont, S., Matecki, S., and Amedro, P. (2020). The \n",
    "V̇e/V̇co2 slope: a useful tool to evaluate the physiological status of children with congenital heart disease. Mechanism of Respiratory Modulation of Cardiovascular Control, 129, 1102-1110. doi:10.1152/japplphysiol.00520.2020\n",
    "\n",
    "Harvard Health Publishing. (2021, September 21). Angina: Symptoms, diagnosis and treatments. \n",
    "Harvard Medical School. https://www.health.harvard.edu/heart-health/angina-symptoms-diagnosis-and-treatments#:~:text=September%2021%2C%202021,by%20cholesterol%2Dclogged%20coronary%20arteries. \n",
    "\n",
    "Lanza, G.A., Mustilli, M., Sestito, A., Infusino, F., Sgueglie, G.A., and Crea, F. (2004). \n",
    "Diagnostic and prognostic value of ST segment depression limited to the recovery phase of exercise stress test. Heart. 90(12). 1417-1421. 10.1136/hrt.2003.031260\n",
    "\n",
    "Shin, J., Ham, D., Shin, S., Choi, S.K., Paik, H-Y., and Joung, H. (2019). Effects of \n",
    "lifestyle-related factors on ischemic heart disease according to body mass index and fasting blood glucose levels in Korean adults. PLoS ONE, 14(5), https://doi.org/10.1371/journal.pone.0216534\n",
    "\n",
    "Timbers, T., Campbell, T., and Lee, M. (n.d.). Data Science: A First Introduction. \n",
    "\n",
    "Wu, C-Y., Hu, H-Y., Chou, Y-J., Huang, N., Chou, Y-C., Li, C-P. (2015). High Blood Pressure \n",
    "and All-Cause and Cardiovascular Disease Mortalities in Community-Dwelling Older Adults. Medicine (Baltimore). 94(47). 10.1097/MD.0000000000002160"
   ]
  },
  {
   "cell_type": "code",
   "execution_count": null,
   "id": "6e1a7f19",
   "metadata": {},
   "outputs": [],
   "source": [
    "\n"
   ]
  }
 ],
 "metadata": {
  "kernelspec": {
   "display_name": "R",
   "language": "R",
   "name": "ir"
  },
  "language_info": {
   "codemirror_mode": "r",
   "file_extension": ".r",
   "mimetype": "text/x-r-source",
   "name": "R",
   "pygments_lexer": "r",
   "version": "4.1.3"
  }
 },
 "nbformat": 4,
 "nbformat_minor": 5
}
